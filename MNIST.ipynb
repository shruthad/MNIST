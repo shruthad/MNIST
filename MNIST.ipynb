{
  "nbformat": 4,
  "nbformat_minor": 0,
  "metadata": {
    "colab": {
      "name": "MNIST.ipynb",
      "provenance": [],
      "collapsed_sections": [],
      "authorship_tag": "ABX9TyPGQdFP0RYVVYmZQvTKu0bc",
      "include_colab_link": true
    },
    "kernelspec": {
      "name": "python3",
      "display_name": "Python 3"
    },
    "accelerator": "GPU"
  },
  "cells": [
    {
      "cell_type": "markdown",
      "metadata": {
        "id": "view-in-github",
        "colab_type": "text"
      },
      "source": [
        "<a href=\"https://colab.research.google.com/github/shruthad/MNIST/blob/main/MNIST.ipynb\" target=\"_parent\"><img src=\"https://colab.research.google.com/assets/colab-badge.svg\" alt=\"Open In Colab\"/></a>"
      ]
    },
    {
      "cell_type": "code",
      "metadata": {
        "id": "RDgg3AgKdmZU"
      },
      "source": [
        "#importing libraries\n",
        "from keras.datasets import mnist\n",
        "import matplotlib.pyplot as plt\n",
        "import random \n",
        "import keras.utils\n",
        "from keras.layers import Dense, Dropout, Flatten, Conv2D, MaxPooling2D,Dropout\n",
        "from keras.models import Sequential\n",
        "from keras.layers.normalization import BatchNormalization\n",
        "from sklearn.model_selection import KFold\n"
      ],
      "execution_count": null,
      "outputs": []
    },
    {
      "cell_type": "code",
      "metadata": {
        "id": "AfdlGPYcesny",
        "colab": {
          "base_uri": "https://localhost:8080/"
        },
        "outputId": "5d624455-297e-4f5e-f0be-c5e64f524755"
      },
      "source": [
        "#loading dataset\n",
        "(x_train, y_train), (x_test, y_test) = mnist.load_data()"
      ],
      "execution_count": null,
      "outputs": [
        {
          "output_type": "stream",
          "text": [
            "Downloading data from https://storage.googleapis.com/tensorflow/tf-keras-datasets/mnist.npz\n",
            "11493376/11490434 [==============================] - 1s 0us/step\n"
          ],
          "name": "stdout"
        }
      ]
    },
    {
      "cell_type": "code",
      "metadata": {
        "id": "0834uMjYfFeY",
        "colab": {
          "base_uri": "https://localhost:8080/"
        },
        "outputId": "f122a69f-03a4-4e02-c749-5069348d2428"
      },
      "source": [
        "print(type(x_train),type(y_train))"
      ],
      "execution_count": null,
      "outputs": [
        {
          "output_type": "stream",
          "text": [
            "<class 'numpy.ndarray'> <class 'numpy.ndarray'>\n"
          ],
          "name": "stdout"
        }
      ]
    },
    {
      "cell_type": "code",
      "metadata": {
        "id": "4tIyw7iCfH_v",
        "colab": {
          "base_uri": "https://localhost:8080/"
        },
        "outputId": "dc9373a7-52e9-4250-d12d-b68d1528e8fb"
      },
      "source": [
        "\n",
        "#evaluate loaded dataset\n",
        "print('Dim of X train is ',x_train.shape)\n",
        "print('Dim of y train is ',y_train.shape)\n",
        "print('Dim of X test is ',x_test.shape)\n",
        "print('Dim of y test is ',y_test.shape)"
      ],
      "execution_count": null,
      "outputs": [
        {
          "output_type": "stream",
          "text": [
            "Dim of X train is  (60000, 28, 28)\n",
            "Dim of y train is  (60000,)\n",
            "Dim of X test is  (10000, 28, 28)\n",
            "Dim of y test is  (10000,)\n"
          ],
          "name": "stdout"
        }
      ]
    },
    {
      "cell_type": "code",
      "metadata": {
        "id": "_caOLNZPfegi",
        "colab": {
          "base_uri": "https://localhost:8080/"
        },
        "outputId": "4b1adda4-493b-4bec-c509-2fe274ad1ff1"
      },
      "source": [
        "#shape of each data\n",
        "ex_image = x_train[0]\n",
        "ex_label = y_train[0]\n",
        "\n",
        "print('Shape of ex is ',ex_image.shape)\n",
        "print('label of ex is ',ex_label)"
      ],
      "execution_count": null,
      "outputs": [
        {
          "output_type": "stream",
          "text": [
            "Shape of ex is  (28, 28)\n",
            "label of ex is  5\n"
          ],
          "name": "stdout"
        }
      ]
    },
    {
      "cell_type": "code",
      "metadata": {
        "id": "sUkP1PYbftU-",
        "colab": {
          "base_uri": "https://localhost:8080/",
          "height": 284
        },
        "outputId": "4e2b6a19-1e64-4eca-c534-66e758d9c9f2"
      },
      "source": [
        "plt.imshow(ex_image,cmap=plt.cm.gray)\n",
        "plt.title('This image represents {}'.format(ex_label))\n",
        "plt.xticks([])\n",
        "plt.yticks([])"
      ],
      "execution_count": null,
      "outputs": [
        {
          "output_type": "execute_result",
          "data": {
            "text/plain": [
              "([], <a list of 0 Text major ticklabel objects>)"
            ]
          },
          "metadata": {
            "tags": []
          },
          "execution_count": 6
        },
        {
          "output_type": "display_data",
          "data": {
            "image/png": "[encoded data removed]",
            "text/plain": [
              "<Figure size 432x288 with 1 Axes>"
            ]
          },
          "metadata": {
            "tags": []
          }
        }
      ]
    },
    {
      "cell_type": "code",
      "metadata": {
        "id": "yGqXLs8ggEIC"
      },
      "source": [
        "def show(image, title):\n",
        "    index = 1 \n",
        "    plt.figure(figsize=(10,5))\n",
        "\n",
        "    for x in zip(image, title):        \n",
        "        image = x[0]        \n",
        "        title = x[1]\n",
        "        plt.subplot(2, 5, index)        \n",
        "        plt.imshow(image.reshape(28,28), cmap=plt.cm.gray)  \n",
        "        plt.title(x[1], fontsize = 9)\n",
        "        plt.xticks([])\n",
        "        plt.yticks([])\n",
        "        index += 1"
      ],
      "execution_count": null,
      "outputs": []
    },
    {
      "cell_type": "code",
      "metadata": {
        "id": "1pn4lzZJgF12",
        "colab": {
          "base_uri": "https://localhost:8080/",
          "height": 292
        },
        "outputId": "8166216f-1fee-46b9-c713-1615f21e22f4"
      },
      "source": [
        "image = []\n",
        "title = []\n",
        "for i in range(0, 5):\n",
        "    r = random.randint(1, len(x_train))\n",
        "    image.append(x_train[r])\n",
        "    title.append('training image:' + str(y_train[r]))       \n",
        "\n",
        "for i in range(0, 5):\n",
        "    r = random.randint(1, len(x_test))\n",
        "    image.append(x_test[r])\n",
        "    title.append('testing image:' + str(y_test[r]))\n",
        "    \n",
        "show(image, title)"
      ],
      "execution_count": null,
      "outputs": [
        {
          "output_type": "display_data",
          "data": {
            "image/png": "[encoded data removed]",
            "text/plain": [
              "<Figure size 720x360 with 10 Axes>"
            ]
          },
          "metadata": {
            "tags": []
          }
        }
      ]
    },
    {
      "cell_type": "code",
      "metadata": {
        "id": "yw4uSiHvgXq6"
      },
      "source": [
        "# reshape dataset to have a single channel\n",
        "x_train = x_train.reshape((x_train.shape[0], 28, 28, 1))\n",
        "x_test = x_test.reshape((x_test.shape[0], 28, 28, 1))"
      ],
      "execution_count": null,
      "outputs": []
    },
    {
      "cell_type": "code",
      "metadata": {
        "id": "-G5GFkglgdGM"
      },
      "source": [
        "# one hot encode target values\n",
        "y_train =  keras.utils.to_categorical(y_train)\n",
        "y_test =  keras.utils.to_categorical(y_test)"
      ],
      "execution_count": null,
      "outputs": []
    },
    {
      "cell_type": "code",
      "metadata": {
        "id": "h1wszPqAgzjI"
      },
      "source": [
        "#convert from integer to float and normalize to range 0-1\n",
        "x_train = x_train.astype('float32')/255.\n",
        "x_test = x_test.astype('float32')/255."
      ],
      "execution_count": null,
      "outputs": []
    },
    {
      "cell_type": "code",
      "metadata": {
        "id": "nsltvpTKhMGf"
      },
      "source": [
        "#cnn using Alexnet architecture\n",
        "model = Sequential()\n",
        "#This gets our neural network as sequential network\n",
        "#1st convolution layer\n",
        "model.add(Conv2D(96, (11,11),input_shape = (28,28,1), activation='relu'))\n",
        "model.add(BatchNormalization())\n",
        "#max pooling\n",
        "model.add(MaxPooling2D(3, strides=2))\n",
        "#2nd convolution layer\n",
        "model.add(Conv2D(256, 5, padding='same', activation='relu'))\n",
        "model.add(BatchNormalization())\n",
        "#max pooling\n",
        "model.add(MaxPooling2D(3, strides=2))\n",
        "#3rd convolution layer\n",
        "model.add(Conv2D(384, 3, strides=1, padding='same', activation='relu'))\n",
        "#4th convolution layer\n",
        "model.add(Conv2D(384, 3, strides=1, padding='same', activation='relu'))\n",
        "#5th convolution layer\n",
        "model.add(Conv2D(256, 3, strides=1, padding='same', activation='relu'))\n",
        "model.add(BatchNormalization())\n",
        "#max pooling\n",
        "model.add(MaxPooling2D(3, strides=2))\n",
        "model.add(Flatten())\n",
        "#1st fully connected layers\n",
        "model.add(Dense(4096, activation='relu'))\n",
        "model.add(Dropout(0.4))\n",
        "#Dropout to prevent overfitting\n",
        "#2nd fully connected layers\n",
        "model.add(Dense(4096, activation='relu'))\n",
        "model.add(Dropout(0.4))\n",
        "#3rd fully connected layers\n",
        "model.add(Dense(units = 10, activation = 'softmax'))"
      ],
      "execution_count": null,
      "outputs": []
    },
    {
      "cell_type": "code",
      "metadata": {
        "id": "jGV4wTy0hvy1"
      },
      "source": [
        "#compile model\n",
        "model.compile(loss = 'categorical_crossentropy', optimizer = 'adam', metrics=['accuracy'])"
      ],
      "execution_count": null,
      "outputs": []
    },
    {
      "cell_type": "code",
      "metadata": {
        "id": "GxpV08Edi5Vj",
        "colab": {
          "base_uri": "https://localhost:8080/"
        },
        "outputId": "4a210bb9-d6a3-4451-ec86-9ffc4a81b49d"
      },
      "source": [
        "def evaluate_model(dataX, dataY, n_folds=5):\n",
        "\tscores, histories = list(), list()\n",
        "\t# prepare cross validation\n",
        "\tkfold = KFold(n_folds, shuffle=True, random_state=1)\n",
        "\t# enumerate splits\n",
        "\tfor train_ix, test_ix in kfold.split(dataX):\n",
        "\t\t\n",
        "\t\t# select rows for train and test\n",
        "\t\tx_train, y_train, xtest, ytest = dataX[train_ix], dataY[train_ix], dataX[test_ix], dataY[test_ix]\n",
        "\t\t# fit model\n",
        "\t\thistory = model.fit(x_train, y_train, epochs=20, batch_size=32, validation_split=0.2, verbose=1)\n",
        "\t\t# evaluate model\n",
        "\t\t_, acc = model.evaluate(x_test, y_test, verbose=1)\n",
        "\t\tprint('> %.3f' % (acc * 100.0))\n",
        "\t\t# stores scores\n",
        "\t\tscores.append(acc)\n",
        "\t\thistories.append(history)\n",
        "\treturn scores, histories\n",
        "scores, histories = evaluate_model(x_train,y_train)"
      ],
      "execution_count": null,
      "outputs": [
        {
          "output_type": "stream",
          "text": [
            "Epoch 1/20\n",
            "   1/1200 [..............................] - ETA: 19s - loss: 3.7253e-08 - accuracy: 1.0000WARNING:tensorflow:Callbacks method `on_train_batch_end` is slow compared to the batch time (batch time: 0.0057s vs `on_train_batch_end` time: 0.0160s). Check your callbacks.\n",
            "1200/1200 [==============================] - 29s 24ms/step - loss: 0.0998 - accuracy: 0.9851 - val_loss: 0.0846 - val_accuracy: 0.9846\n",
            "Epoch 2/20\n",
            "1200/1200 [==============================] - 29s 24ms/step - loss: 0.0933 - accuracy: 0.9838 - val_loss: 0.0404 - val_accuracy: 0.9923\n",
            "Epoch 3/20\n",
            "1200/1200 [==============================] - 29s 24ms/step - loss: 0.0458 - accuracy: 0.9901 - val_loss: 0.0616 - val_accuracy: 0.9886\n",
            "Epoch 4/20\n",
            "1200/1200 [==============================] - 29s 24ms/step - loss: 0.0433 - accuracy: 0.9910 - val_loss: 0.0377 - val_accuracy: 0.9928\n",
            "Epoch 5/20\n",
            "1200/1200 [==============================] - 29s 24ms/step - loss: 0.0396 - accuracy: 0.9914 - val_loss: 0.0583 - val_accuracy: 0.9881\n",
            "Epoch 6/20\n",
            "1200/1200 [==============================] - 29s 24ms/step - loss: 0.0658 - accuracy: 0.9890 - val_loss: 0.0462 - val_accuracy: 0.9913\n",
            "Epoch 7/20\n",
            "1200/1200 [==============================] - 29s 24ms/step - loss: 0.0400 - accuracy: 0.9924 - val_loss: 0.0355 - val_accuracy: 0.9939\n",
            "Epoch 8/20\n",
            "1200/1200 [==============================] - 29s 24ms/step - loss: 0.0262 - accuracy: 0.9947 - val_loss: 0.0397 - val_accuracy: 0.9933\n",
            "Epoch 9/20\n",
            "1200/1200 [==============================] - 29s 24ms/step - loss: 0.0288 - accuracy: 0.9944 - val_loss: 0.0300 - val_accuracy: 0.9942\n",
            "Epoch 10/20\n",
            "1200/1200 [==============================] - 29s 24ms/step - loss: 0.0265 - accuracy: 0.9947 - val_loss: 0.0395 - val_accuracy: 0.9943\n",
            "Epoch 11/20\n",
            "1200/1200 [==============================] - 29s 24ms/step - loss: 0.0243 - accuracy: 0.9952 - val_loss: 0.0600 - val_accuracy: 0.9890\n",
            "Epoch 12/20\n",
            "1200/1200 [==============================] - 29s 24ms/step - loss: 0.0261 - accuracy: 0.9950 - val_loss: 0.0415 - val_accuracy: 0.9949\n",
            "Epoch 13/20\n",
            "1200/1200 [==============================] - 29s 24ms/step - loss: 0.0225 - accuracy: 0.9957 - val_loss: 0.0417 - val_accuracy: 0.9952\n",
            "Epoch 14/20\n",
            "1200/1200 [==============================] - 29s 24ms/step - loss: 0.0274 - accuracy: 0.9955 - val_loss: 0.0302 - val_accuracy: 0.9947\n",
            "Epoch 15/20\n",
            "1200/1200 [==============================] - 29s 24ms/step - loss: 0.0168 - accuracy: 0.9965 - val_loss: 0.0622 - val_accuracy: 0.9918\n",
            "Epoch 16/20\n",
            "1200/1200 [==============================] - 29s 24ms/step - loss: 0.0264 - accuracy: 0.9952 - val_loss: 0.0394 - val_accuracy: 0.9946\n",
            "Epoch 17/20\n",
            "1200/1200 [==============================] - 29s 24ms/step - loss: 0.0141 - accuracy: 0.9973 - val_loss: 0.0412 - val_accuracy: 0.9947\n",
            "Epoch 18/20\n",
            "1200/1200 [==============================] - 29s 24ms/step - loss: 0.0181 - accuracy: 0.9965 - val_loss: 0.0450 - val_accuracy: 0.9940\n",
            "Epoch 19/20\n",
            "1200/1200 [==============================] - 29s 24ms/step - loss: 0.0200 - accuracy: 0.9962 - val_loss: 0.0267 - val_accuracy: 0.9961\n",
            "Epoch 20/20\n",
            "1200/1200 [==============================] - 29s 24ms/step - loss: 0.0154 - accuracy: 0.9968 - val_loss: 0.0866 - val_accuracy: 0.9913\n",
            "313/313 [==============================] - 2s 6ms/step - loss: 0.0949 - accuracy: 0.9890\n",
            "> 98.900\n",
            "Epoch 1/20\n",
            "   1/1200 [..............................] - ETA: 14s - loss: 0.0013 - accuracy: 1.0000WARNING:tensorflow:Callbacks method `on_train_batch_end` is slow compared to the batch time (batch time: 0.0045s vs `on_train_batch_end` time: 0.0149s). Check your callbacks.\n",
            "1198/1200 [============================>.] - ETA: 0s - loss: 0.0392 - accuracy: 0.9935WARNING:tensorflow:Callbacks method `on_test_batch_end` is slow compared to the batch time (batch time: 0.0017s vs `on_test_batch_end` time: 0.0035s). Check your callbacks.\n",
            "1200/1200 [==============================] - 24s 20ms/step - loss: 0.0392 - accuracy: 0.9935 - val_loss: 0.0510 - val_accuracy: 0.9911\n",
            "Epoch 2/20\n",
            "1200/1200 [==============================] - 24s 20ms/step - loss: 0.0235 - accuracy: 0.9951 - val_loss: 0.0620 - val_accuracy: 0.9878\n",
            "Epoch 3/20\n",
            "1200/1200 [==============================] - 24s 20ms/step - loss: 0.0176 - accuracy: 0.9960 - val_loss: 0.0622 - val_accuracy: 0.9926\n",
            "Epoch 4/20\n",
            "1200/1200 [==============================] - 24s 20ms/step - loss: 0.0164 - accuracy: 0.9966 - val_loss: 0.0622 - val_accuracy: 0.9907\n",
            "Epoch 5/20\n",
            "1200/1200 [==============================] - 24s 20ms/step - loss: 0.0153 - accuracy: 0.9965 - val_loss: 0.0653 - val_accuracy: 0.9911\n",
            "Epoch 6/20\n",
            "1200/1200 [==============================] - 24s 20ms/step - loss: 0.0194 - accuracy: 0.9964 - val_loss: 0.0699 - val_accuracy: 0.9910\n",
            "Epoch 7/20\n",
            "1200/1200 [==============================] - 24s 20ms/step - loss: 0.0200 - accuracy: 0.9965 - val_loss: 0.0574 - val_accuracy: 0.9906\n",
            "Epoch 8/20\n",
            "1200/1200 [==============================] - 24s 20ms/step - loss: 0.0125 - accuracy: 0.9973 - val_loss: 0.0894 - val_accuracy: 0.9909\n",
            "Epoch 9/20\n",
            "1200/1200 [==============================] - 24s 20ms/step - loss: 0.0132 - accuracy: 0.9972 - val_loss: 0.0904 - val_accuracy: 0.9927\n",
            "Epoch 10/20\n",
            "1200/1200 [==============================] - 24s 20ms/step - loss: 0.0119 - accuracy: 0.9978 - val_loss: 0.0588 - val_accuracy: 0.9900\n",
            "Epoch 11/20\n",
            "1200/1200 [==============================] - 24s 20ms/step - loss: 0.0093 - accuracy: 0.9976 - val_loss: 0.0702 - val_accuracy: 0.9911\n",
            "Epoch 12/20\n",
            "1200/1200 [==============================] - 24s 20ms/step - loss: 0.0203 - accuracy: 0.9972 - val_loss: 0.1001 - val_accuracy: 0.9921\n",
            "Epoch 13/20\n",
            "1200/1200 [==============================] - 24s 20ms/step - loss: 0.0113 - accuracy: 0.9975 - val_loss: 0.0685 - val_accuracy: 0.9900\n",
            "Epoch 14/20\n",
            "1200/1200 [==============================] - 25s 20ms/step - loss: 0.0135 - accuracy: 0.9976 - val_loss: 0.0855 - val_accuracy: 0.9906\n",
            "Epoch 15/20\n",
            "1200/1200 [==============================] - 24s 20ms/step - loss: 0.0079 - accuracy: 0.9983 - val_loss: 0.1210 - val_accuracy: 0.9931\n",
            "Epoch 16/20\n",
            "1200/1200 [==============================] - 24s 20ms/step - loss: 0.0140 - accuracy: 0.9979 - val_loss: 0.0751 - val_accuracy: 0.9928\n",
            "Epoch 17/20\n",
            "1200/1200 [==============================] - 24s 20ms/step - loss: 0.0109 - accuracy: 0.9975 - val_loss: 0.0914 - val_accuracy: 0.9924\n",
            "Epoch 18/20\n",
            "1200/1200 [==============================] - 24s 20ms/step - loss: 0.0070 - accuracy: 0.9986 - val_loss: 0.0768 - val_accuracy: 0.9919\n",
            "Epoch 19/20\n",
            "1200/1200 [==============================] - 24s 20ms/step - loss: 0.0147 - accuracy: 0.9977 - val_loss: 0.0668 - val_accuracy: 0.9918\n",
            "Epoch 20/20\n",
            "1200/1200 [==============================] - 24s 20ms/step - loss: 0.0191 - accuracy: 0.9982 - val_loss: 0.0834 - val_accuracy: 0.9915\n",
            "313/313 [==============================] - 2s 6ms/step - loss: 0.0735 - accuracy: 0.9926\n",
            "> 99.260\n",
            "Epoch 1/20\n",
            "   1/1200 [..............................] - ETA: 17s - loss: 2.1234e-07 - accuracy: 1.0000WARNING:tensorflow:Callbacks method `on_train_batch_end` is slow compared to the batch time (batch time: 0.0038s vs `on_train_batch_end` time: 0.0146s). Check your callbacks.\n",
            "1198/1200 [============================>.] - ETA: 0s - loss: 0.0232 - accuracy: 0.9965WARNING:tensorflow:Callbacks method `on_test_batch_end` is slow compared to the batch time (batch time: 0.0024s vs `on_test_batch_end` time: 0.0042s). Check your callbacks.\n",
            "1200/1200 [==============================] - 24s 20ms/step - loss: 0.0233 - accuracy: 0.9965 - val_loss: 0.0987 - val_accuracy: 0.9914\n",
            "Epoch 2/20\n",
            "1200/1200 [==============================] - 24s 20ms/step - loss: 0.0119 - accuracy: 0.9975 - val_loss: 0.0675 - val_accuracy: 0.9927\n",
            "Epoch 3/20\n",
            "1200/1200 [==============================] - 24s 20ms/step - loss: 0.0090 - accuracy: 0.9983 - val_loss: 0.1007 - val_accuracy: 0.9919\n",
            "Epoch 4/20\n",
            "1200/1200 [==============================] - 25s 20ms/step - loss: 0.0114 - accuracy: 0.9984 - val_loss: 0.0869 - val_accuracy: 0.9905\n",
            "Epoch 5/20\n",
            "1200/1200 [==============================] - 24s 20ms/step - loss: 0.0173 - accuracy: 0.9975 - val_loss: 0.0869 - val_accuracy: 0.9903\n",
            "Epoch 6/20\n",
            "1200/1200 [==============================] - 24s 20ms/step - loss: 0.0093 - accuracy: 0.9980 - val_loss: 0.0817 - val_accuracy: 0.9916\n",
            "Epoch 7/20\n",
            "1200/1200 [==============================] - 24s 20ms/step - loss: 0.0082 - accuracy: 0.9983 - val_loss: 0.1116 - val_accuracy: 0.9899\n",
            "Epoch 8/20\n",
            "1200/1200 [==============================] - 24s 20ms/step - loss: 0.0078 - accuracy: 0.9983 - val_loss: 0.0763 - val_accuracy: 0.9933\n",
            "Epoch 9/20\n",
            "1200/1200 [==============================] - 24s 20ms/step - loss: 0.0033 - accuracy: 0.9995 - val_loss: 0.0878 - val_accuracy: 0.9908\n",
            "Epoch 10/20\n",
            "1200/1200 [==============================] - 24s 20ms/step - loss: 0.0132 - accuracy: 0.9976 - val_loss: 0.1205 - val_accuracy: 0.9887\n",
            "Epoch 11/20\n",
            "1200/1200 [==============================] - 24s 20ms/step - loss: 0.0081 - accuracy: 0.9983 - val_loss: 3.8401 - val_accuracy: 0.9904\n",
            "Epoch 12/20\n",
            "1200/1200 [==============================] - 24s 20ms/step - loss: 0.0118 - accuracy: 0.9985 - val_loss: 0.1314 - val_accuracy: 0.9902\n",
            "Epoch 13/20\n",
            "1200/1200 [==============================] - 24s 20ms/step - loss: 0.0095 - accuracy: 0.9980 - val_loss: 8.0993 - val_accuracy: 0.9924\n",
            "Epoch 14/20\n",
            "1200/1200 [==============================] - 24s 20ms/step - loss: 0.0115 - accuracy: 0.9981 - val_loss: 0.1083 - val_accuracy: 0.9915\n",
            "Epoch 15/20\n",
            "1200/1200 [==============================] - 24s 20ms/step - loss: 0.0127 - accuracy: 0.9980 - val_loss: 0.1907 - val_accuracy: 0.9903\n",
            "Epoch 16/20\n",
            "1200/1200 [==============================] - 24s 20ms/step - loss: 0.0098 - accuracy: 0.9982 - val_loss: 0.1221 - val_accuracy: 0.9919\n",
            "Epoch 17/20\n",
            "1200/1200 [==============================] - 24s 20ms/step - loss: 0.0124 - accuracy: 0.9984 - val_loss: 0.1003 - val_accuracy: 0.9925\n",
            "Epoch 18/20\n",
            "1200/1200 [==============================] - 24s 20ms/step - loss: 0.0073 - accuracy: 0.9991 - val_loss: 0.1104 - val_accuracy: 0.9916\n",
            "Epoch 19/20\n",
            "1200/1200 [==============================] - 24s 20ms/step - loss: 0.0096 - accuracy: 0.9985 - val_loss: 0.0950 - val_accuracy: 0.9933\n",
            "Epoch 20/20\n",
            "1200/1200 [==============================] - 24s 20ms/step - loss: 0.0079 - accuracy: 0.9988 - val_loss: 0.1269 - val_accuracy: 0.9910\n",
            "313/313 [==============================] - 2s 5ms/step - loss: 0.0978 - accuracy: 0.9930\n",
            "> 99.300\n",
            "Epoch 1/20\n",
            "   1/1200 [..............................] - ETA: 18s - loss: 8.5682e-08 - accuracy: 1.0000WARNING:tensorflow:Callbacks method `on_train_batch_end` is slow compared to the batch time (batch time: 0.0054s vs `on_train_batch_end` time: 0.0151s). Check your callbacks.\n",
            "1200/1200 [==============================] - ETA: 0s - loss: 0.0104 - accuracy: 0.9981WARNING:tensorflow:Callbacks method `on_test_batch_end` is slow compared to the batch time (batch time: 0.0016s vs `on_test_batch_end` time: 0.0035s). Check your callbacks.\n",
            "1200/1200 [==============================] - 24s 20ms/step - loss: 0.0104 - accuracy: 0.9981 - val_loss: 0.0696 - val_accuracy: 0.9925\n",
            "Epoch 2/20\n",
            "1200/1200 [==============================] - 24s 20ms/step - loss: 0.0068 - accuracy: 0.9987 - val_loss: 0.0977 - val_accuracy: 0.9917\n",
            "Epoch 3/20\n",
            "1200/1200 [==============================] - 24s 20ms/step - loss: 0.0102 - accuracy: 0.9984 - val_loss: 0.0866 - val_accuracy: 0.9933\n",
            "Epoch 4/20\n",
            "1200/1200 [==============================] - 24s 20ms/step - loss: 0.0086 - accuracy: 0.9987 - val_loss: 0.1091 - val_accuracy: 0.9905\n",
            "Epoch 5/20\n",
            "1200/1200 [==============================] - 24s 20ms/step - loss: 0.0129 - accuracy: 0.9980 - val_loss: 0.0840 - val_accuracy: 0.9931\n",
            "Epoch 6/20\n",
            "1200/1200 [==============================] - 24s 20ms/step - loss: 0.0069 - accuracy: 0.9989 - val_loss: 0.1016 - val_accuracy: 0.9926\n",
            "Epoch 7/20\n",
            "1200/1200 [==============================] - 24s 20ms/step - loss: 0.0079 - accuracy: 0.9987 - val_loss: 0.0969 - val_accuracy: 0.9929\n",
            "Epoch 8/20\n",
            "1200/1200 [==============================] - 24s 20ms/step - loss: 0.0073 - accuracy: 0.9989 - val_loss: 0.1185 - val_accuracy: 0.9935\n",
            "Epoch 9/20\n",
            "1200/1200 [==============================] - 24s 20ms/step - loss: 0.0066 - accuracy: 0.9990 - val_loss: 0.1413 - val_accuracy: 0.9920\n",
            "Epoch 10/20\n",
            "1200/1200 [==============================] - 24s 20ms/step - loss: 0.0116 - accuracy: 0.9985 - val_loss: 0.1122 - val_accuracy: 0.9923\n",
            "Epoch 11/20\n",
            "1200/1200 [==============================] - 24s 20ms/step - loss: 0.0105 - accuracy: 0.9983 - val_loss: 0.0914 - val_accuracy: 0.9928\n",
            "Epoch 12/20\n",
            "1200/1200 [==============================] - 24s 20ms/step - loss: 0.0112 - accuracy: 0.9986 - val_loss: 0.0733 - val_accuracy: 0.9932\n",
            "Epoch 13/20\n",
            "1200/1200 [==============================] - 24s 20ms/step - loss: 0.0038 - accuracy: 0.9991 - val_loss: 0.2143 - val_accuracy: 0.9923\n",
            "Epoch 14/20\n",
            "1200/1200 [==============================] - 24s 20ms/step - loss: 0.0142 - accuracy: 0.9983 - val_loss: 0.1190 - val_accuracy: 0.9911\n",
            "Epoch 15/20\n",
            "1200/1200 [==============================] - 24s 20ms/step - loss: 0.0040 - accuracy: 0.9991 - val_loss: 0.1249 - val_accuracy: 0.9925\n",
            "Epoch 16/20\n",
            "1200/1200 [==============================] - 24s 20ms/step - loss: 0.0110 - accuracy: 0.9984 - val_loss: 0.1356 - val_accuracy: 0.9933\n",
            "Epoch 17/20\n",
            "1200/1200 [==============================] - 24s 20ms/step - loss: 0.0112 - accuracy: 0.9984 - val_loss: 0.1123 - val_accuracy: 0.9922\n",
            "Epoch 18/20\n",
            "1200/1200 [==============================] - 24s 20ms/step - loss: 0.0053 - accuracy: 0.9989 - val_loss: 0.1035 - val_accuracy: 0.9930\n",
            "Epoch 19/20\n",
            "1200/1200 [==============================] - 24s 20ms/step - loss: 0.0018 - accuracy: 0.9997 - val_loss: 0.2133 - val_accuracy: 0.9907\n",
            "Epoch 20/20\n",
            "1200/1200 [==============================] - 24s 20ms/step - loss: 0.0062 - accuracy: 0.9992 - val_loss: 0.2220 - val_accuracy: 0.9933\n",
            "313/313 [==============================] - 2s 5ms/step - loss: 0.1289 - accuracy: 0.9938\n",
            "> 99.380\n",
            "Epoch 1/20\n",
            "   1/1200 [..............................] - ETA: 18s - loss: 0.0000e+00 - accuracy: 1.0000WARNING:tensorflow:Callbacks method `on_train_batch_end` is slow compared to the batch time (batch time: 0.0044s vs `on_train_batch_end` time: 0.0150s). Check your callbacks.\n",
            "1200/1200 [==============================] - 24s 20ms/step - loss: 0.0226 - accuracy: 0.9976 - val_loss: 0.0963 - val_accuracy: 0.9930\n",
            "Epoch 2/20\n",
            "1200/1200 [==============================] - 25s 20ms/step - loss: 0.0050 - accuracy: 0.9990 - val_loss: 0.2155 - val_accuracy: 0.9935\n",
            "Epoch 3/20\n",
            "1200/1200 [==============================] - 24s 20ms/step - loss: 0.0058 - accuracy: 0.9991 - val_loss: 3.2037 - val_accuracy: 0.9932\n",
            "Epoch 4/20\n",
            "1200/1200 [==============================] - 24s 20ms/step - loss: 0.0091 - accuracy: 0.9985 - val_loss: 0.1303 - val_accuracy: 0.9931\n",
            "Epoch 5/20\n",
            "1200/1200 [==============================] - 24s 20ms/step - loss: 0.0106 - accuracy: 0.9985 - val_loss: 0.0835 - val_accuracy: 0.9949\n",
            "Epoch 6/20\n",
            "1200/1200 [==============================] - 24s 20ms/step - loss: 0.0113 - accuracy: 0.9989 - val_loss: 0.0729 - val_accuracy: 0.9937\n",
            "Epoch 7/20\n",
            "1200/1200 [==============================] - 24s 20ms/step - loss: 0.0053 - accuracy: 0.9990 - val_loss: 0.0988 - val_accuracy: 0.9942\n",
            "Epoch 8/20\n",
            "1200/1200 [==============================] - 24s 20ms/step - loss: 0.0031 - accuracy: 0.9993 - val_loss: 0.6067 - val_accuracy: 0.9930\n",
            "Epoch 9/20\n",
            "1200/1200 [==============================] - 24s 20ms/step - loss: 0.0079 - accuracy: 0.9987 - val_loss: 2.7516 - val_accuracy: 0.9925\n",
            "Epoch 10/20\n",
            "1200/1200 [==============================] - 24s 20ms/step - loss: 0.0079 - accuracy: 0.9987 - val_loss: 2.2527 - val_accuracy: 0.9917\n",
            "Epoch 11/20\n",
            "1200/1200 [==============================] - 24s 20ms/step - loss: 0.0124 - accuracy: 0.9986 - val_loss: 0.2656 - val_accuracy: 0.9929\n",
            "Epoch 12/20\n",
            "1200/1200 [==============================] - 24s 20ms/step - loss: 0.0113 - accuracy: 0.9984 - val_loss: 10.6145 - val_accuracy: 0.9935\n",
            "Epoch 13/20\n",
            "1200/1200 [==============================] - 24s 20ms/step - loss: 0.0016 - accuracy: 0.9996 - val_loss: 2.7274 - val_accuracy: 0.9945\n",
            "Epoch 14/20\n",
            "1200/1200 [==============================] - 24s 20ms/step - loss: 0.0165 - accuracy: 0.9984 - val_loss: 0.1214 - val_accuracy: 0.9911\n",
            "Epoch 15/20\n",
            "1200/1200 [==============================] - 24s 20ms/step - loss: 0.0125 - accuracy: 0.9982 - val_loss: 0.2859 - val_accuracy: 0.9919\n",
            "Epoch 16/20\n",
            "1200/1200 [==============================] - 24s 20ms/step - loss: 0.0036 - accuracy: 0.9993 - val_loss: 0.1446 - val_accuracy: 0.9933\n",
            "Epoch 17/20\n",
            "1200/1200 [==============================] - 24s 20ms/step - loss: 0.0029 - accuracy: 0.9996 - val_loss: 0.6243 - val_accuracy: 0.9935\n",
            "Epoch 18/20\n",
            "1200/1200 [==============================] - 24s 20ms/step - loss: 0.0089 - accuracy: 0.9987 - val_loss: 0.1321 - val_accuracy: 0.9925\n",
            "Epoch 19/20\n",
            "1200/1200 [==============================] - 24s 20ms/step - loss: 0.0037 - accuracy: 0.9992 - val_loss: 2.2058 - val_accuracy: 0.9926\n",
            "Epoch 20/20\n",
            "1200/1200 [==============================] - 24s 20ms/step - loss: 0.0082 - accuracy: 0.9988 - val_loss: 0.2957 - val_accuracy: 0.9894\n",
            "313/313 [==============================] - 2s 6ms/step - loss: 0.3214 - accuracy: 0.9908\n",
            "> 99.080\n"
          ],
          "name": "stdout"
        }
      ]
    },
    {
      "cell_type": "code",
      "metadata": {
        "colab": {
          "base_uri": "https://localhost:8080/",
          "height": 284
        },
        "id": "fcLBgPA73tJs",
        "outputId": "01683a4b-e296-4c53-e0c3-0f9401971723"
      },
      "source": [
        "\n",
        "# summarize model performance\n",
        "\n",
        "from numpy import mean\n",
        "from numpy import std\n",
        "def summarize_performance(scores):\n",
        "\t# print summary\n",
        "\tprint('Accuracy: mean=%.3f std=%.3f, n=%d' % (mean(scores)*100, std(scores)*100, len(scores)))\n",
        "\t# box and whisker plots of results\n",
        "\tpyplot.boxplot(scores)\n",
        "\tpyplot.show()\n",
        "\t# summarize estimated performance\n",
        "summarize_performance(scores)\n",
        " "
      ],
      "execution_count": null,
      "outputs": [
        {
          "output_type": "stream",
          "text": [
            "Accuracy: mean=99.184 std=0.173, n=5\n"
          ],
          "name": "stdout"
        },
        {
          "output_type": "display_data",
          "data": {
            "image/png": "[encoded data removed]",
            "text/plain": [
              "<Figure size 432x288 with 1 Axes>"
            ]
          },
          "metadata": {
            "tags": [],
            "needs_background": "light"
          }
        }
      ]
    },
    {
      "cell_type": "code",
      "metadata": {
        "id": "4E8DncA14Xqa"
      },
      "source": [
        "model.save(\"final_model.h5\")"
      ],
      "execution_count": null,
      "outputs": []
    },
    {
      "cell_type": "code",
      "metadata": {
        "colab": {
          "base_uri": "https://localhost:8080/"
        },
        "id": "cXBJzJmS41SY",
        "outputId": "47f784ff-de37-49db-b3ff-b32bcf450bac"
      },
      "source": [
        "model.summary()"
      ],
      "execution_count": null,
      "outputs": [
        {
          "output_type": "stream",
          "text": [
            "Model: \"sequential\"\n",
            "_________________________________________________________________\n",
            "Layer (type)                 Output Shape              Param #   \n",
            "=================================================================\n",
            "conv2d (Conv2D)              (None, 18, 18, 96)        11712     \n",
            "_________________________________________________________________\n",
            "batch_normalization (BatchNo (None, 18, 18, 96)        384       \n",
            "_________________________________________________________________\n",
            "max_pooling2d (MaxPooling2D) (None, 8, 8, 96)          0         \n",
            "_________________________________________________________________\n",
            "conv2d_1 (Conv2D)            (None, 8, 8, 256)         614656    \n",
            "_________________________________________________________________\n",
            "batch_normalization_1 (Batch (None, 8, 8, 256)         1024      \n",
            "_________________________________________________________________\n",
            "max_pooling2d_1 (MaxPooling2 (None, 3, 3, 256)         0         \n",
            "_________________________________________________________________\n",
            "conv2d_2 (Conv2D)            (None, 3, 3, 384)         885120    \n",
            "_________________________________________________________________\n",
            "conv2d_3 (Conv2D)            (None, 3, 3, 384)         1327488   \n",
            "_________________________________________________________________\n",
            "conv2d_4 (Conv2D)            (None, 3, 3, 256)         884992    \n",
            "_________________________________________________________________\n",
            "batch_normalization_2 (Batch (None, 3, 3, 256)         1024      \n",
            "_________________________________________________________________\n",
            "max_pooling2d_2 (MaxPooling2 (None, 1, 1, 256)         0         \n",
            "_________________________________________________________________\n",
            "flatten (Flatten)            (None, 256)               0         \n",
            "_________________________________________________________________\n",
            "dense (Dense)                (None, 4096)              1052672   \n",
            "_________________________________________________________________\n",
            "dropout (Dropout)            (None, 4096)              0         \n",
            "_________________________________________________________________\n",
            "dense_1 (Dense)              (None, 4096)              16781312  \n",
            "_________________________________________________________________\n",
            "dropout_1 (Dropout)          (None, 4096)              0         \n",
            "_________________________________________________________________\n",
            "dense_2 (Dense)              (None, 10)                40970     \n",
            "=================================================================\n",
            "Total params: 21,601,354\n",
            "Trainable params: 21,600,138\n",
            "Non-trainable params: 1,216\n",
            "_________________________________________________________________\n"
          ],
          "name": "stdout"
        }
      ]
    },
    {
      "cell_type": "code",
      "metadata": {
        "colab": {
          "base_uri": "https://localhost:8080/"
        },
        "id": "_VDpf5Qa77xZ",
        "outputId": "f368e8d6-881b-4195-ccf2-eec2cc7ff34c"
      },
      "source": [
        "import numpy as np\n",
        "# make a prediction for a new image.\n",
        "from keras.preprocessing.image import load_img\n",
        "from keras.preprocessing.image import img_to_array\n",
        "from keras.models import load_model\n",
        " \n",
        "# load and prepare the image\n",
        "def load_image(filename):\n",
        "\t# load the image\n",
        "\timg = load_img(filename, grayscale=True, target_size=(28, 28))\n",
        "\t# convert to array\n",
        "\timg = img_to_array(img)\n",
        "\t# reshape into a single sample with 1 channel\n",
        "\timg = img.reshape(1, 28, 28, 1)\n",
        "\t# prepare pixel data\n",
        "\timg = img.astype('float32')\n",
        "\timg = img / 255.0\n",
        "\treturn img\n",
        " \n",
        "# load an image and predict the class\n",
        "def run_example():\n",
        "\t# load the image\n",
        "\timg = load_image('sample_image.png')\n",
        "\t# load model\n",
        "\tmodel = load_model(\"final_model.h5\")\n",
        "\t# predict the class\n",
        "\tdigit =model.predict_classes(img)\n",
        "\tprint(digit[0])\n",
        " \n",
        "# entry point, run the example\n",
        "run_example()"
      ],
      "execution_count": null,
      "outputs": [
        {
          "output_type": "stream",
          "text": [
            "/usr/local/lib/python3.6/dist-packages/keras_preprocessing/image/utils.py:107: UserWarning: grayscale is deprecated. Please use color_mode = \"grayscale\"\n",
            "  warnings.warn('grayscale is deprecated. Please use '\n"
          ],
          "name": "stderr"
        },
        {
          "output_type": "stream",
          "text": [
            "WARNING:tensorflow:From <ipython-input-20-8035d5e31103>:27: Sequential.predict_classes (from tensorflow.python.keras.engine.sequential) is deprecated and will be removed after 2021-01-01.\n",
            "Instructions for updating:\n",
            "Please use instead:* `np.argmax(model.predict(x), axis=-1)`,   if your model does multi-class classification   (e.g. if it uses a `softmax` last-layer activation).* `(model.predict(x) > 0.5).astype(\"int32\")`,   if your model does binary classification   (e.g. if it uses a `sigmoid` last-layer activation).\n",
            "7\n"
          ],
          "name": "stdout"
        }
      ]
    },
    {
      "cell_type": "code",
      "metadata": {
        "id": "Tm4V0bVhQQMl"
      },
      "source": [
        ""
      ],
      "execution_count": null,
      "outputs": []
    }
  ]
}